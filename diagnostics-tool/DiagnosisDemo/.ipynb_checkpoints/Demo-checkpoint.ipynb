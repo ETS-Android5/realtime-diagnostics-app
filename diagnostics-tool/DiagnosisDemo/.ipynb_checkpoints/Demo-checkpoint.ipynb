{
 "cells": [
  {
   "cell_type": "markdown",
   "metadata": {},
   "source": [
    "# Diagnosis System Demo\n",
    "This demo shows how our diagnosis system work. \n",
    "\n",
    "## Problem\n",
    "While we have a lot of resources in the US, African people are suffering from high disease burden and reletively low information technology development. We are aiming to design a diagnosis system for them to help ease the disease burden. \n",
    "Although many US diagnosis systems are working well, the target diseases are quite different from African infectious diseases, which are the main cause of death there. In the mean time, due to a limited access of internet in Africa, US systems are not able to work there.\n",
    "\n",
    "## Solution\n",
    "We are aiming to develop a diagnosis system for Africa people. The system will be able to work offline, while high accuracy and broad spectrum are maintained. \n",
    "We have access to IBM MarketScan medical records and DeepDive text corpus data set, and we collected some common diseases and their corresponding symptoms, both in the US and in Nigeria, the largest country in Africa. \n",
    "The system is designed as following:\n",
    "### Data preparing\n",
    "IBM MarketScan medical records are used to summarized the frequency of different diseases and serve as a prior probability of diagnosis.\n",
    "DeepDive corpus works as training data for the association between diseases and symptoms. The method we use is Word2Vec within gensim library. Combining with the disease information we collected, an association matrix is formed and this matrix is used for an adaptive diagnosis as followed.\n",
    "### Adaptive diagnosis\n",
    "Given the disease-symptom association, and the inputs from the patient, we are able to filter out possible diagnosises for the patient. With a list of possible diagnosis, a reduced association matrix is formed and the most informative symptom is asked. After the answer from the patient is got, the matrix is further reduced. \n",
    "Finally the matrix is reduced to only one line and the diagnosis is done. In this way, not only the final diagnosis result is shown, but also other possible diseases. This is because we have collected a list of symptoms, multiplied by the association matrix, we actually get the probabilities for all disease in our list."
   ]
  },
  {
   "cell_type": "markdown",
   "metadata": {},
   "source": [
    "## Step 1: load data and transform into dataframes or dictionaries"
   ]
  },
  {
   "cell_type": "code",
   "execution_count": 45,
   "metadata": {
    "scrolled": true
   },
   "outputs": [],
   "source": [
    "import pandas as pd\n",
    "import numpy as np\n",
    "from gensim.models import Word2Vec\n",
    "\n",
    "# The medical dictionary trained from NLP for recognizing natural language\n",
    "meddic = pd.read_csv('../WordEmbedding/trimmed_wv/Dictionary.csv', index_col=0, header = None)\n",
    "\n",
    "# The disease-symptom association matrix\n",
    "WM = pd.read_csv('../WeightMatrix/Dis_Sym_30.csv', index_col=0)\n",
    "\n",
    "# The association between medical words and UMLS codes. The association matrix is shown as unified codes.\n",
    "dis2sym = pd.read_csv('../UMLS/dis_symptom.csv', header=None)\n",
    "\n",
    "\n",
    "# processing for matching of medical codes and medical terms, and the disease population information.\n",
    "dis2sym.fillna(method='ffill',inplace=True)\n",
    "\n",
    "umls_dis = {}\n",
    "umls_sym = {}\n",
    "dis_num = {}\n",
    "for i in dis2sym.index:\n",
    "    temp = dis2sym.loc[i][0]\n",
    "    items = temp.split('^')\n",
    "    item = items[0].strip('UMLS:').split('_')\n",
    "    if len(item) != 2: continue\n",
    "    umls_dis[item[0]] = item[1]\n",
    "    dis_num[item[0]] = int(dis2sym.loc[i][1])\n",
    "for i in dis2sym.index:\n",
    "    temp = dis2sym.loc[i][2]\n",
    "    items = temp.split('^')\n",
    "    item = items[0].strip('UMLS:').split('_')\n",
    "    if len(item) != 2: continue\n",
    "    umls_sym[item[0]] = item[1]\n",
    "    \n",
    "rev_sym = {v: k for k, v in umls_sym.items()}\n",
    "rev_dis = {v: k for k, v in umls_dis.items()}\n",
    "\n"
   ]
  },
  {
   "cell_type": "markdown",
   "metadata": {},
   "source": [
    "## Function definitions"
   ]
  },
  {
   "cell_type": "code",
   "execution_count": 46,
   "metadata": {},
   "outputs": [],
   "source": [
    "# inputs for basic information of the patient\n",
    "def initial_input():\n",
    "    # initial input part\n",
    "    gendermap = {'F':'Female', 'M': 'Male'}\n",
    "    print('Please type in the gender for the patient. F for female and M for male')\n",
    "    g = input()\n",
    "    gender = gendermap[g]\n",
    "    print('Please type in the age for the patient in years.')\n",
    "    age = int(input())\n",
    "    print('What symptom do you have?')\n",
    "    sym = input()\n",
    "    \n",
    "    return gender, age, sym"
   ]
  },
  {
   "cell_type": "code",
   "execution_count": 49,
   "metadata": {},
   "outputs": [
    {
     "data": {
      "text/plain": [
       "'C0000737'"
      ]
     },
     "execution_count": 49,
     "metadata": {},
     "output_type": "execute_result"
    }
   ],
   "source": [
    "meddic.loc['abdominal'][1]"
   ]
  },
  {
   "cell_type": "markdown",
   "metadata": {},
   "source": [
    "### findsynonym function finds the closest medical terms for the natural language inputs\n",
    "For example, you input 'coughing', 'cough' will be found and the UMLS code for cough is found and used for further diagnosis"
   ]
  },
  {
   "cell_type": "code",
   "execution_count": 50,
   "metadata": {},
   "outputs": [],
   "source": [
    "import re\n",
    "def findsynonym(sym):\n",
    "    if sym in rev_sym:\n",
    "        return rev_sym[sym]\n",
    "    \n",
    "    if sym in meddic.index:\n",
    "        return meddic.loc[sym][1]"
   ]
  },
  {
   "cell_type": "markdown",
   "metadata": {},
   "source": [
    "### SelectMatrix function reduces the association matrix to smaller ones\n",
    "By choosing only the diseases that matches current symptoms, and the symtoms associated with these diseases."
   ]
  },
  {
   "cell_type": "code",
   "execution_count": 74,
   "metadata": {},
   "outputs": [],
   "source": [
    "def SelectedMatrix(sym):\n",
    "    selected = WM[WM[sym] != 0]\n",
    "    selected = selected.drop(columns=[sym])\n",
    "    for c in selected.columns:\n",
    "        if sum(selected[c]) == 0:\n",
    "            selected.drop(columns=[c],inplace=True)\n",
    "    return selected\n",
    "    "
   ]
  },
  {
   "cell_type": "markdown",
   "metadata": {},
   "source": [
    "### Renorm function renormalized the diagnosis vector via softmax\n",
    "to distinguish the large amount of diseases and maintain a sum of unity"
   ]
  },
  {
   "cell_type": "code",
   "execution_count": 53,
   "metadata": {},
   "outputs": [],
   "source": [
    "T = 0.03\n",
    "def renorm(dia):\n",
    "    dia.sort_values(ascending=False, inplace=True)\n",
    "    dia.reset_index(drop=True)\n",
    "    s = sum([np.exp(ai/T) for ai in dia])\n",
    "    return np.exp(dia/T)/s"
   ]
  },
  {
   "cell_type": "markdown",
   "metadata": {},
   "source": [
    "### Diagnosis function does the diagnosis\n",
    "* step 1: Get the initial input including gender, age and a symptom\n",
    "* step 2: Choose a most informative question to ask and get answer from the patient\n",
    "* step 3: Reduce the association matrix \n",
    "* step 4: Check whether there is only one disease left in the reduced, if not go back step 2\n",
    "* step 5: Calculate the diagnosis vector from the symptoms multiplied by the association matrix\n",
    "* step 6: renormalized the diagnosis vector and print out the top five possible diseases\n",
    "* step 7: Use the Bing Web Search SDK to find more information about the diagnosis result"
   ]
  },
  {
   "cell_type": "code",
   "execution_count": 83,
   "metadata": {},
   "outputs": [],
   "source": [
    "def diagnosis():\n",
    "    \n",
    "    gender, age, sym = initial_input()\n",
    "    \n",
    "    sym = findsynonym(sym)\n",
    "    \n",
    "    selected = SelectedMatrix(sym)\n",
    "    \n",
    "    #The response vector\n",
    "    res = pd.Series(index=WM.columns, data=[0]*len(WM.columns))\n",
    "    res[sym] = 1\n",
    "    \n",
    "    #Diagnosis process\n",
    "    while True:\n",
    "        # compute the probabilities\n",
    "        dia = WM.dot(res)\n",
    "        \n",
    "        # drop the columns with no information\n",
    "        for j in selected.columns:\n",
    "            if 0 not in selected[j].value_counts():\n",
    "                res[j] = 1\n",
    "                selected.drop(columns=[j], inplace = True)  \n",
    "        \n",
    "        # the diagnosis criterion\n",
    "        if len(selected) == 1:\n",
    "            dia = renorm(dia)\n",
    "            print('-----------------------------------------------------------')\n",
    "            print('Diagnosis results:')\n",
    "            for i in range(len(dia)):\n",
    "                if i < 5:\n",
    "                    print(umls_dis[dia.keys()[i]], ':%2d'%(dia[i]*100), '%')\n",
    "            print('-----------------------------------------------------------')        \n",
    "            return umls_dis[dia.keys()[0]]\n",
    "            \n",
    "        #choose the most relevant symptom to ask: The symptom that are least shared with other diseases\n",
    "        next_i = selected.columns[0]\n",
    "        s = 100\n",
    "        for i in selected.columns:   \n",
    "            if 0 in selected[i].value_counts():\n",
    "                pri = abs(selected[i].value_counts()[0] - len(selected)/2)\n",
    "                if pri < s:\n",
    "                    s = pri\n",
    "                    next_i = i      \n",
    "            else:\n",
    "                res[next_i] = 1\n",
    "                selected = selected[selected[next_i]!=0]\n",
    "         \n",
    "        print('-----------------------------------------------------------')\n",
    "        print('Do you have the following symptom: (Y for Yes and N for No)')\n",
    "        print(umls_sym[next_i])\n",
    "        \n",
    "        answer = input()\n",
    "        while answer != 'Y' and answer != 'N':\n",
    "            answer = input()\n",
    "              \n",
    "        if answer == 'Y':\n",
    "            res[next_i] = 1\n",
    "            selected = selected[selected[next_i]!=0]\n",
    "        else:\n",
    "            res[next_i] = 0\n",
    "            selected = selected[selected[next_i]==0]\n",
    "            \n",
    "        selected.drop(columns=[next_i], inplace = True)"
   ]
  },
  {
   "cell_type": "markdown",
   "metadata": {},
   "source": [
    "### Azure Bing web search for diagnosis result"
   ]
  },
  {
   "cell_type": "code",
   "execution_count": 1,
   "metadata": {},
   "outputs": [
    {
     "ename": "ModuleNotFoundError",
     "evalue": "No module named 'azure'",
     "output_type": "error",
     "traceback": [
      "\u001b[0;31m---------------------------------------------------------------------------\u001b[0m",
      "\u001b[0;31mModuleNotFoundError\u001b[0m                       Traceback (most recent call last)",
      "\u001b[0;32m<ipython-input-1-08c535c1dff0>\u001b[0m in \u001b[0;36m<module>\u001b[0;34m()\u001b[0m\n\u001b[1;32m      1\u001b[0m \u001b[0;31m# Import required modules.\u001b[0m\u001b[0;34m\u001b[0m\u001b[0;34m\u001b[0m\u001b[0m\n\u001b[0;32m----> 2\u001b[0;31m \u001b[0;32mfrom\u001b[0m \u001b[0mazure\u001b[0m\u001b[0;34m.\u001b[0m\u001b[0mcognitiveservices\u001b[0m\u001b[0;34m.\u001b[0m\u001b[0msearch\u001b[0m\u001b[0;34m.\u001b[0m\u001b[0mwebsearch\u001b[0m \u001b[0;32mimport\u001b[0m \u001b[0mWebSearchAPI\u001b[0m\u001b[0;34m\u001b[0m\u001b[0m\n\u001b[0m\u001b[1;32m      3\u001b[0m \u001b[0;32mfrom\u001b[0m \u001b[0mazure\u001b[0m\u001b[0;34m.\u001b[0m\u001b[0mcognitiveservices\u001b[0m\u001b[0;34m.\u001b[0m\u001b[0msearch\u001b[0m\u001b[0;34m.\u001b[0m\u001b[0mwebsearch\u001b[0m\u001b[0;34m.\u001b[0m\u001b[0mmodels\u001b[0m \u001b[0;32mimport\u001b[0m \u001b[0mSafeSearch\u001b[0m\u001b[0;34m\u001b[0m\u001b[0m\n\u001b[1;32m      4\u001b[0m \u001b[0;32mfrom\u001b[0m \u001b[0mmsrest\u001b[0m\u001b[0;34m.\u001b[0m\u001b[0mauthentication\u001b[0m \u001b[0;32mimport\u001b[0m \u001b[0mCognitiveServicesCredentials\u001b[0m\u001b[0;34m\u001b[0m\u001b[0m\n\u001b[1;32m      5\u001b[0m \u001b[0;34m\u001b[0m\u001b[0m\n",
      "\u001b[0;31mModuleNotFoundError\u001b[0m: No module named 'azure'"
     ]
    }
   ],
   "source": [
    "# Import required modules.\n",
    "from azure.cognitiveservices.search.websearch import WebSearchAPI\n",
    "from azure.cognitiveservices.search.websearch.models import SafeSearch\n",
    "from msrest.authentication import CognitiveServicesCredentials\n",
    "\n",
    "# Replace with your subscription key.\n",
    "subscription_key = \"3b4066fbe4774c6da3a47e7a5399b440\"\n",
    "\n",
    "# Instantiate the client and replace with your endpoint.\n",
    "client = WebSearchAPI(CognitiveServicesCredentials(subscription_key), base_url = \"https://bingtril.cognitiveservices.azure.com/bing/v7.0\")\n",
    "\n",
    "def bing(diagnosis):\n",
    "\n",
    "    # Make a request. Replace Yosemite if you'd like.\n",
    "    web_data = client.web.search(query=diagnosis)\n",
    "\n",
    "    '''\n",
    "    Web pages\n",
    "    If the search response contains web pages, the first result's name and url\n",
    "    are printed.\n",
    "    '''\n",
    "    if hasattr(web_data.web_pages, 'value'):\n",
    "\n",
    "        print(\"\\r\\nWebpage Results#{}\".format(len(web_data.web_pages.value)))\n",
    "\n",
    "        first_web_page = web_data.web_pages.value[0]\n",
    "        print(\"First web page name: {} \".format(first_web_page.name))\n",
    "        print(\"First web page URL: {} \".format(first_web_page.url))\n",
    "\n",
    "    else:\n",
    "        print(\"Didn't find any web pages...\")\n",
    "    return"
   ]
  },
  {
   "cell_type": "markdown",
   "metadata": {},
   "source": [
    "## An example of diagnosis process"
   ]
  },
  {
   "cell_type": "code",
   "execution_count": 13,
   "metadata": {
    "scrolled": true
   },
   "outputs": [
    {
     "name": "stdout",
     "output_type": "stream",
     "text": [
      "Please type in the gender for the patient. F for female and M for male\n",
      "M\n",
      "Please type in the age for the patient in years.\n",
      "24\n",
      "What symptom do you have?\n",
      "cough\n",
      "-----------------------------------------------------------\n",
      "Do you have the following symptom: (Y for Yes and N for No)\n",
      "yellow sputum\n",
      "Y\n",
      "-----------------------------------------------------------\n",
      "Do you have the following symptom: (Y for Yes and N for No)\n",
      "green sputum\n",
      "Y\n",
      "-----------------------------------------------------------\n",
      "Do you have the following symptom: (Y for Yes and N for No)\n",
      "malaise\n",
      "Y\n",
      "-----------------------------------------------------------\n",
      "Diagnosis results:\n",
      "pneumonia :53 %\n",
      "asthma :13 %\n",
      "hepatitis B :11 %\n",
      "influenza :11 %\n",
      "colitis :10 %\n",
      "-----------------------------------------------------------\n"
     ]
    },
    {
     "data": {
      "text/plain": [
       "'Diagnosis done'"
      ]
     },
     "execution_count": 13,
     "metadata": {},
     "output_type": "execute_result"
    }
   ],
   "source": [
    "diagnosis()"
   ]
  },
  {
   "cell_type": "code",
   "execution_count": null,
   "metadata": {},
   "outputs": [],
   "source": [
    "bing(diagnosis())"
   ]
  }
 ],
 "metadata": {
  "kernelspec": {
   "display_name": "Python 3",
   "language": "python",
   "name": "python3"
  },
  "language_info": {
   "codemirror_mode": {
    "name": "ipython",
    "version": 3
   },
   "file_extension": ".py",
   "mimetype": "text/x-python",
   "name": "python",
   "nbconvert_exporter": "python",
   "pygments_lexer": "ipython3",
   "version": "3.6.3"
  }
 },
 "nbformat": 4,
 "nbformat_minor": 2
}
